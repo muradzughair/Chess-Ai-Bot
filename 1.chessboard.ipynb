{
 "cells": [
  {
   "cell_type": "markdown",
   "metadata": {},
   "source": [
    "# import"
   ]
  },
  {
   "cell_type": "code",
   "execution_count": 1,
   "metadata": {},
   "outputs": [
    {
     "name": "stdout",
     "output_type": "stream",
     "text": [
      "pygame 2.6.1 (SDL 2.28.4, Python 3.12.4)\n",
      "Hello from the pygame community. https://www.pygame.org/contribute.html\n"
     ]
    }
   ],
   "source": [
    "import pygame"
   ]
  },
  {
   "cell_type": "markdown",
   "metadata": {},
   "source": [
    "# Build the board"
   ]
  },
  {
   "cell_type": "code",
   "execution_count": 2,
   "metadata": {},
   "outputs": [],
   "source": [
    "pygame.init()\n",
    "\n",
    "\n",
    "# the screen size\n",
    "WIDTH, HEIGHT = 800, 800\n",
    "\n",
    "# each square size for the chess board\n",
    "SQUARE_SIZE = WIDTH // 8\n",
    "screen = pygame.display.set_mode((WIDTH, HEIGHT))\n",
    "pygame.display.set_caption(\"Chess Board\")\n",
    "\n",
    "# the chess board colors (black and white)\n",
    "WHITE = (238, 238, 210)\n",
    "BLACK = (118, 150, 86)\n",
    "\n",
    "# function to draw the borad\n",
    "def draw_board():\n",
    "    for row in range(8):\n",
    "        for col in range(8):\n",
    "            # white if even and balck id odd\n",
    "            color = WHITE if (row + col) % 2 == 0 else BLACK\n",
    "            # put the square in the right place with the right color\n",
    "            pygame.draw.rect(screen, color, (col * SQUARE_SIZE, row * SQUARE_SIZE, SQUARE_SIZE, SQUARE_SIZE))\n",
    "            # first parameter for screen, second parameter for the color, third one (x postion, y postion, width, height)\n",
    "\n",
    "\n",
    "# # chess peices pictures (download the pictures from the repo and puth their path here):\n",
    "pieces = {\n",
    "    \"wp\": pygame.image.load(\"C:/Users/user/Desktop/projects/2.chess/images/w_pawn.png\"),\n",
    "    \"wr\": pygame.image.load(\"C:/Users/user/Desktop/projects/2.chess/images/w_rook.png\"),\n",
    "    \"wn\": pygame.image.load(\"C:/Users/user/Desktop/projects/2.chess/images/w_horse.png\"),\n",
    "    \"wb\": pygame.image.load(\"C:/Users/user/Desktop/projects/2.chess/images/w_bishop.png\"),\n",
    "    \"wq\": pygame.image.load(\"C:/Users/user/Desktop/projects/2.chess/images/w_queen.png\"),\n",
    "    \"wk\": pygame.image.load(\"C:/Users/user/Desktop/projects/2.chess/images/w_king.png\"),\n",
    "    \"bp\": pygame.image.load(\"C:/Users/user/Desktop/projects/2.chess/images/b_pawn.png\"),\n",
    "    \"br\": pygame.image.load(\"C:/Users/user/Desktop/projects/2.chess/images/b_rook.png\"),\n",
    "    \"bn\": pygame.image.load(\"C:/Users/user/Desktop/projects/2.chess/images/b_horse.png\"),\n",
    "    \"bb\": pygame.image.load(\"C:/Users/user/Desktop/projects/2.chess/images/b_bishop.png\"),\n",
    "    \"bq\": pygame.image.load(\"C:/Users/user/Desktop/projects/2.chess/images/b_queen.png\"),\n",
    "    \"bk\": pygame.image.load(\"C:/Users/user/Desktop/projects/2.chess/images/b_king.png\"),\n",
    "}\n",
    "\n",
    "# Resize the chess pieces to fit the squares\n",
    "for i in pieces:\n",
    "    pieces[i] = pygame.transform.scale(pieces[i], (SQUARE_SIZE, SQUARE_SIZE))\n",
    "\n",
    "# Initial chess board setup\n",
    "chess_board = [\n",
    "    [\"br\", \"bn\", \"bb\", \"bq\", \"bk\", \"bb\", \"bn\", \"br\"],\n",
    "    [\"bp\", \"bp\", \"bp\", \"bp\", \"bp\", \"bp\", \"bp\", \"bp\"],\n",
    "    [\"\", \"\", \"\", \"\", \"\", \"\", \"\", \"\"],\n",
    "    [\"\", \"\", \"\", \"\", \"\", \"\", \"\", \"\"],\n",
    "    [\"\", \"\", \"\", \"\", \"\", \"\", \"\", \"\"],\n",
    "    [\"\", \"\", \"\", \"\", \"\", \"\", \"\", \"\"],\n",
    "    [\"wp\", \"wp\", \"wp\", \"wp\", \"wp\", \"wp\", \"wp\", \"wp\"],\n",
    "    [\"wr\", \"wn\", \"wb\", \"wq\", \"wk\", \"wb\", \"wn\", \"wr\"],\n",
    "]\n",
    "\n",
    "def draw_pieces():\n",
    "    \"\"\"Draw the chess pieces on the board.\"\"\"\n",
    "    for row in range(8):\n",
    "        for col in range(8):\n",
    "            piece = chess_board[row][col]\n",
    "            if piece != \"\":\n",
    "                screen.blit(pieces[piece], (col * SQUARE_SIZE, row * SQUARE_SIZE))\n",
    "\n"
   ]
  },
  {
   "cell_type": "markdown",
   "metadata": {},
   "source": [
    "# Run the game"
   ]
  },
  {
   "cell_type": "code",
   "execution_count": 3,
   "metadata": {},
   "outputs": [],
   "source": [
    "\n",
    "\n",
    "\n",
    "running=True\n",
    "while running:\n",
    "    \n",
    "    draw_board()\n",
    "    draw_pieces()\n",
    "    pygame.display.flip()\n",
    "\n",
    "    for event in pygame.event.get():\n",
    "        if event.type == pygame.QUIT:\n",
    "            running = False\n",
    "\n",
    "pygame.quit()"
   ]
  }
 ],
 "metadata": {
  "kernelspec": {
   "display_name": "Python 3",
   "language": "python",
   "name": "python3"
  },
  "language_info": {
   "codemirror_mode": {
    "name": "ipython",
    "version": 3
   },
   "file_extension": ".py",
   "mimetype": "text/x-python",
   "name": "python",
   "nbconvert_exporter": "python",
   "pygments_lexer": "ipython3",
   "version": "3.12.4"
  }
 },
 "nbformat": 4,
 "nbformat_minor": 2
}
